{
 "cells": [
  {
   "cell_type": "markdown",
   "metadata": {},
   "source": [
    "### Play with numbers\n",
    "\n",
    "\n"
   ]
  },
  {
   "cell_type": "code",
   "execution_count": 5,
   "metadata": {},
   "outputs": [
    {
     "ename": "SyntaxError",
     "evalue": "unexpected EOF while parsing (<ipython-input-5-4208332f6d1a>, line 17)",
     "output_type": "error",
     "traceback": [
      "\u001b[1;36m  File \u001b[1;32m\"<ipython-input-5-4208332f6d1a>\"\u001b[1;36m, line \u001b[1;32m17\u001b[0m\n\u001b[1;33m    \u001b[0m\n\u001b[1;37m    ^\u001b[0m\n\u001b[1;31mSyntaxError\u001b[0m\u001b[1;31m:\u001b[0m unexpected EOF while parsing\n"
     ]
    }
   ],
   "source": [
    "n = input().split()\n",
    "n[0], n[1] =  int(n[0]), int(n[1])\n",
    "\n",
    "# Read array elements\n",
    "\n",
    "a = input().split()\n",
    "\n",
    "\n",
    "sum = []   # Initialize cummulative sum array\n",
    "\n",
    "# Cumilative Sum\n",
    "\n",
    "for i in range (0,n[0]):\n",
    "    if i ==0:\n",
    "        sum[i]==a[i]\n",
    "    else:\n",
    "        "
   ]
  },
  {
   "cell_type": "markdown",
   "metadata": {},
   "source": [
    "### problem : special number\n",
    "\n",
    "A special number is defned as a number which has at least p distinct prime factor\n",
    "\n",
    "\n",
    "\n"
   ]
  },
  {
   "cell_type": "code",
   "execution_count": null,
   "metadata": {},
   "outputs": [],
   "source": [
    "# function to determineif a number is special number or not\n",
    "\n",
    "def isSpecialNumber(n, p):\n",
    "    if numberofPrimeFactors(n) >= p:\n",
    "        return True\n",
    "    return False\n",
    "    \n",
    "    \n",
    "# Function to check if number is prime\n",
    "def isPrime(n):\n",
    "    flag = 1\n",
    "    if n == 2:\n",
    "        return True\n",
    "    for i in range(2, n//2+1):\n",
    "        if n%i ==0:\n",
    "            flag = 0\n",
    "            return False\n",
    "    if flag == 1:\n",
    "        return True\n",
    "    return\n",
    "\n",
    "isPrime(79)\n",
    "\n",
    "# Function to determine number of prime factors for a given number\n",
    "\n",
    "def numberofPrimeFactors(n):\n",
    "    if isPrime(n):\n",
    "        return 1\n",
    "    count = 0\n",
    "    for i in range(2, n//2 +1):\n",
    "        if isPrime(i) and n% i == 0:\n",
    "            count += 1\n",
    "    return count\n",
    "\n",
    "\n",
    "def solution2():\n",
    "    p = int(input())\n",
    "    t = int(input())\n",
    "    for i in range(0, t):\n",
    "        n = int(input())\n",
    "    if isspecialnumber(n, p):\n",
    "        print(\"yes\")\n",
    "    else:\n",
    "        print(\"No\")\n",
    "        \n",
    "solution2()\n",
    "\n"
   ]
  },
  {
   "cell_type": "markdown",
   "metadata": {},
   "source": [
    "### Problem : Highest Remainder"
   ]
  },
  {
   "cell_type": "code",
   "execution_count": null,
   "metadata": {},
   "outputs": [],
   "source": [
    "\n",
    "\n",
    "\n",
    "\n",
    "N\n",
    "highest = 0\n",
    "X < N and n% X == highest\n",
    "\n",
    "30\n",
    "1\n",
    "2\n",
    "3\n",
    "4\n",
    "5\n",
    "6\n",
    "\n",
    "\n",
    "\n",
    "16 14\n",
    "15 0\n",
    "\n",
    "\n"
   ]
  },
  {
   "cell_type": "code",
   "execution_count": 6,
   "metadata": {},
   "outputs": [
    {
     "name": "stdout",
     "output_type": "stream",
     "text": [
      "3\n"
     ]
    }
   ],
   "source": [
    "def highestRemainder(n):\n",
    "    hr = 0\n",
    "    v = n\n",
    "    for i in range(n-1, n //2, -1):\n",
    "        r = n % i\n",
    "        if r > hr:\n",
    "            hr = r\n",
    "            v = i\n",
    "    print(v)\n",
    "    return\n",
    "\n",
    "highestRemainder(5)"
   ]
  },
  {
   "cell_type": "code",
   "execution_count": 14,
   "metadata": {},
   "outputs": [
    {
     "data": {
      "text/plain": [
       "True"
      ]
     },
     "execution_count": 14,
     "metadata": {},
     "output_type": "execute_result"
    }
   ],
   "source": [
    "d1 = {\"k1\":\"value1\", \"k2\":\"value2\"}\n",
    "\n",
    "d1[\"k2\"] # Accesing the value with key \"k2\"\n",
    "d1.keys() # Returns list of all keys\n",
    "d1.keys() # returns list of all values\n",
    "d1.items() # returns list of tupels of keys and values\n",
    "d1[\"k3\"] = \"value3\" # Adding an element to the dictonary\n",
    "\n",
    "d1[\"k3\"] = \"value4\" # Updating an element\n",
    "d1.pop(\"k3\") # Removing an element\n",
    "\"k2\" in d1"
   ]
  },
  {
   "cell_type": "markdown",
   "metadata": {},
   "source": [
    "# Contacts Application\n",
    "- Add contact\n",
    "- Search for contact\n",
    "- List all contacts\n",
    "    - name1 : phone1\n",
    "    - name2 : phone2\n",
    "- Modify contact\n",
    "- Remove contact\n",
    "- Import contacts"
   ]
  },
  {
   "cell_type": "code",
   "execution_count": 22,
   "metadata": {},
   "outputs": [
    {
     "name": "stdout",
     "output_type": "stream",
     "text": [
      "{'name1': '1234567890'}\n"
     ]
    }
   ],
   "source": [
    "contacts = {}\n",
    "\n",
    "def addcontact(name, phone):\n",
    "    # Verify the contact doesnt already exist\n",
    "    \n",
    "    if name not in contacts:\n",
    "        contacts[name] = phone\n",
    "        print(contacts)\n",
    "    else:\n",
    "        print(\"contact %s already exists\" % name)\n",
    "    return\n",
    "addcontact(\"name1\", \"1234567890\")"
   ]
  },
  {
   "cell_type": "code",
   "execution_count": 27,
   "metadata": {},
   "outputs": [
    {
     "name": "stdout",
     "output_type": "stream",
     "text": [
      "name1 : 1234567890\n"
     ]
    }
   ],
   "source": [
    "def searchContacts(name):\n",
    "    if name in contacts:\n",
    "        print(name, \":\", contacts[name])\n",
    "    else:\n",
    "        print(\"%s does not exist\" % name)\n",
    "    return\n",
    "\n",
    "searchContacts(\"name1\")"
   ]
  },
  {
   "cell_type": "code",
   "execution_count": 41,
   "metadata": {},
   "outputs": [
    {
     "name": "stdout",
     "output_type": "stream",
     "text": [
      "name1 : 1234567890\n"
     ]
    }
   ],
   "source": [
    "def listContacts():\n",
    "    for x,y in contacts.items():\n",
    "        print(x,\":\",y)\n",
    "        \n",
    "listContacts()\n",
    "        "
   ]
  },
  {
   "cell_type": "code",
   "execution_count": 51,
   "metadata": {},
   "outputs": [
    {
     "name": "stdout",
     "output_type": "stream",
     "text": [
      "{'name1': '1234567890', 'name2': 9966086996, 'name3': 9705615374, 'harish r': 9705615374}\n"
     ]
    }
   ],
   "source": [
    "# New contacts is given as a dictionary\n",
    "# Merge new contacts with existing contacts\n",
    "\n",
    "def importcontacts(newcontacts):\n",
    "    contacts.update(newcontacts)\n",
    "    print(contacts)\n",
    "    return\n",
    "    \n",
    "          \n",
    "newContacts = {\"name2\":9966086996, \"harish r\":9705615374}\n",
    "\n",
    "importcontacts(newContacts)\n",
    "\n"
   ]
  },
  {
   "cell_type": "code",
   "execution_count": 52,
   "metadata": {},
   "outputs": [
    {
     "name": "stdout",
     "output_type": "stream",
     "text": [
      "{'name1': '1234567890', 'name2': 9966086996, 'name3': 9705615374, 'harish r': 12345}\n"
     ]
    }
   ],
   "source": [
    "def modifyContact(name,number):\n",
    "    contacts.update({name:number})\n",
    "    print(contacts)\n",
    "    \n",
    "    \n",
    "modifyContact(\"harish r\",12345)"
   ]
  },
  {
   "cell_type": "markdown",
   "metadata": {},
   "source": [
    "### Packages and Modules\n",
    "\n",
    "\n",
    "  **Package** -> collection of Modules(python File .py)\n",
    "  **Sub PAckages** ->\n",
    "  **Module** -> A single python file containing function\n",
    "  package -> subpackages -> Modules -> Functions"
   ]
  },
  {
   "cell_type": "code",
   "execution_count": 54,
   "metadata": {},
   "outputs": [
    {
     "data": {
      "text/plain": [
       "3.141592653589793"
      ]
     },
     "execution_count": 54,
     "metadata": {},
     "output_type": "execute_result"
    }
   ],
   "source": [
    "import math\n",
    "\n",
    "math.floor(123.456)\n",
    "\n",
    "math.pi"
   ]
  },
  {
   "cell_type": "code",
   "execution_count": 57,
   "metadata": {},
   "outputs": [
    {
     "data": {
      "text/plain": [
       "34"
      ]
     },
     "execution_count": 57,
     "metadata": {},
     "output_type": "execute_result"
    }
   ],
   "source": [
    "# Define a function to generate N random numbers\n",
    "\n",
    "import random\n",
    "\n",
    "# def generateNrandomnumbers(n):\n",
    "    \n",
    "random.randint(0,100) "
   ]
  },
  {
   "cell_type": "code",
   "execution_count": 62,
   "metadata": {},
   "outputs": [
    {
     "name": "stdout",
     "output_type": "stream",
     "text": [
      "58 91 9 61 34 63 84 97 48 51 "
     ]
    }
   ],
   "source": [
    "# Define a function to generate N random numbers in a given range\n",
    "\n",
    "import random\n",
    "\n",
    "def generateNrandomnumbers(n, lb, ub):\n",
    "    for i in range(0, n):\n",
    "        print(random.randint(lb, ub), end=\" \")\n",
    "        \n",
    "generateNrandomnumbers(10, 0, 100)        \n",
    "    \n",
    " "
   ]
  },
  {
   "cell_type": "code",
   "execution_count": null,
   "metadata": {},
   "outputs": [],
   "source": []
  },
  {
   "cell_type": "code",
   "execution_count": 6,
   "metadata": {},
   "outputs": [
    {
     "ename": "AttributeError",
     "evalue": "module 'Packages.Numerical' has no attribute 'numberofprimeFactors'",
     "output_type": "error",
     "traceback": [
      "\u001b[1;31m---------------------------------------------------------------------------\u001b[0m",
      "\u001b[1;31mAttributeError\u001b[0m                            Traceback (most recent call last)",
      "\u001b[1;32m<ipython-input-6-7111948f3698>\u001b[0m in \u001b[0;36m<module>\u001b[1;34m\u001b[0m\n\u001b[0;32m      1\u001b[0m \u001b[1;32mfrom\u001b[0m \u001b[0mPackages\u001b[0m \u001b[1;32mimport\u001b[0m \u001b[0mNumerical\u001b[0m\u001b[1;33m\u001b[0m\u001b[1;33m\u001b[0m\u001b[0m\n\u001b[0;32m      2\u001b[0m \u001b[1;33m\u001b[0m\u001b[0m\n\u001b[1;32m----> 3\u001b[1;33m \u001b[0mNumerical\u001b[0m\u001b[1;33m.\u001b[0m\u001b[0mnumberofprimeFactors\u001b[0m\u001b[1;33m(\u001b[0m\u001b[1;36m10000\u001b[0m\u001b[1;33m)\u001b[0m\u001b[1;33m\u001b[0m\u001b[1;33m\u001b[0m\u001b[0m\n\u001b[0m",
      "\u001b[1;31mAttributeError\u001b[0m: module 'Packages.Numerical' has no attribute 'numberofprimeFactors'"
     ]
    }
   ],
   "source": [
    "from Packages import Numerical\n",
    "\n",
    "Numerical.numberofprimeFactors(10000)"
   ]
  },
  {
   "cell_type": "code",
   "execution_count": 7,
   "metadata": {},
   "outputs": [
    {
     "ename": "ImportError",
     "evalue": "cannot import name 'isprime' from 'Packages.Numerical' (C:\\Users\\IIIT-rgukt\\Desktop\\Problem-Solving-Programming-and-python-L2-june-2019\\Packages\\Numerical.py)",
     "output_type": "error",
     "traceback": [
      "\u001b[1;31m---------------------------------------------------------------------------\u001b[0m",
      "\u001b[1;31mImportError\u001b[0m                               Traceback (most recent call last)",
      "\u001b[1;32m<ipython-input-7-40aec868ed16>\u001b[0m in \u001b[0;36m<module>\u001b[1;34m\u001b[0m\n\u001b[1;32m----> 1\u001b[1;33m \u001b[1;32mfrom\u001b[0m \u001b[0mPackages\u001b[0m\u001b[1;33m.\u001b[0m\u001b[0mNumerical\u001b[0m \u001b[1;32mimport\u001b[0m \u001b[0misprime\u001b[0m\u001b[1;33m\u001b[0m\u001b[1;33m\u001b[0m\u001b[0m\n\u001b[0m\u001b[0;32m      2\u001b[0m \u001b[1;33m\u001b[0m\u001b[0m\n\u001b[0;32m      3\u001b[0m \u001b[0misprime\u001b[0m\u001b[1;33m(\u001b[0m\u001b[1;36m105\u001b[0m\u001b[1;33m)\u001b[0m\u001b[1;33m\u001b[0m\u001b[1;33m\u001b[0m\u001b[0m\n",
      "\u001b[1;31mImportError\u001b[0m: cannot import name 'isprime' from 'Packages.Numerical' (C:\\Users\\IIIT-rgukt\\Desktop\\Problem-Solving-Programming-and-python-L2-june-2019\\Packages\\Numerical.py)"
     ]
    }
   ],
   "source": [
    "from Packages.Numerical import isprime\n",
    "\n",
    "isprime(105)"
   ]
  },
  {
   "cell_type": "code",
   "execution_count": null,
   "metadata": {},
   "outputs": [],
   "source": []
  }
 ],
 "metadata": {
  "kernelspec": {
   "display_name": "Python 3",
   "language": "python",
   "name": "python3"
  },
  "language_info": {
   "codemirror_mode": {
    "name": "ipython",
    "version": 3
   },
   "file_extension": ".py",
   "mimetype": "text/x-python",
   "name": "python",
   "nbconvert_exporter": "python",
   "pygments_lexer": "ipython3",
   "version": "3.7.3"
  }
 },
 "nbformat": 4,
 "nbformat_minor": 2
}
