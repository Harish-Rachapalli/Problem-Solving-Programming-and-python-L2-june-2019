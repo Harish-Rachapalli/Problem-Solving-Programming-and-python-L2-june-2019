{
 "cells": [
  {
   "cell_type": "markdown",
   "metadata": {},
   "source": [
    "# problem solving and programming\n",
    " \n",
    " * date 12 june 2019\n",
    " \n",
    " *Day objectives\n",
    " \n",
    " "
   ]
  },
  {
   "cell_type": "code",
   "execution_count": null,
   "metadata": {},
   "outputs": [],
   "source": []
  },
  {
   "cell_type": "markdown",
   "metadata": {},
   "source": [
    "# String Slice"
   ]
  },
  {
   "cell_type": "code",
   "execution_count": 30,
   "metadata": {},
   "outputs": [
    {
     "data": {
      "text/plain": [
       "'margorp nohtyp'"
      ]
     },
     "execution_count": 30,
     "metadata": {},
     "output_type": "execute_result"
    }
   ],
   "source": [
    "s1 = \"python program\"\n",
    "\n",
    "s1[-1]\n",
    "s1[0] # Acessing first character in a string\n",
    "s1[1] # accessing the second character in a string\n",
    "s1[len(s1)-1]  # accessing the last character in a string\n",
    "\n",
    "s1[-1] # another way of the last stering\n",
    "\n",
    "s1[-2] # Accessing the penumilate character in a string \n",
    "\n",
    "s1[0:2]  # Accessing the tfirst two characters of a string\n",
    "\n",
    "s1[-2:]  # Accessing the last two characters of a string\n",
    "\n",
    "s1[4:] # accessing 5th character to end of stri\n",
    "\n",
    "# Accessing all characters except first and last character\n",
    "\n",
    "s1[:-1]\n",
    "\n",
    "# Accessing the middle character in an odd  string\n",
    "\n",
    "s1[len(s1)//2]\n",
    "\n",
    "# Reverse of a string\n",
    "\n",
    "s1[::-1]\n"
   ]
  },
  {
   "cell_type": "markdown",
   "metadata": {},
   "source": [
    "# Functions"
   ]
  },
  {
   "cell_type": "code",
   "execution_count": 43,
   "metadata": {},
   "outputs": [
    {
     "ename": "SyntaxError",
     "evalue": "invalid syntax (<ipython-input-43-18835dafb6d0>, line 2)",
     "output_type": "error",
     "traceback": [
      "\u001b[1;36m  File \u001b[1;32m\"<ipython-input-43-18835dafb6d0>\"\u001b[1;36m, line \u001b[1;32m2\u001b[0m\n\u001b[1;33m    def reverse string(s):\u001b[0m\n\u001b[1;37m                     ^\u001b[0m\n\u001b[1;31mSyntaxError\u001b[0m\u001b[1;31m:\u001b[0m invalid syntax\n"
     ]
    }
   ],
   "source": [
    "# Function to reverse string\n",
    "def reverse string(s):\n",
    "    return s[::-1]\n",
    "\n",
    "reverse string (\"python\")"
   ]
  },
  {
   "cell_type": "code",
   "execution_count": 21,
   "metadata": {},
   "outputs": [
    {
     "data": {
      "text/plain": [
       "['False',\n",
       " 'None',\n",
       " 'True',\n",
       " 'and',\n",
       " 'as',\n",
       " 'assert',\n",
       " 'async',\n",
       " 'await',\n",
       " 'break',\n",
       " 'class',\n",
       " 'continue',\n",
       " 'def',\n",
       " 'del',\n",
       " 'elif',\n",
       " 'else',\n",
       " 'except',\n",
       " 'finally',\n",
       " 'for',\n",
       " 'from',\n",
       " 'global',\n",
       " 'if',\n",
       " 'import',\n",
       " 'in',\n",
       " 'is',\n",
       " 'lambda',\n",
       " 'nonlocal',\n",
       " 'not',\n",
       " 'or',\n",
       " 'pass',\n",
       " 'raise',\n",
       " 'return',\n",
       " 'try',\n",
       " 'while',\n",
       " 'with',\n",
       " 'yield']"
      ]
     },
     "execution_count": 21,
     "metadata": {},
     "output_type": "execute_result"
    }
   ],
   "source": [
    "import keyword \n",
    "keyword.kwlist"
   ]
  },
  {
   "cell_type": "code",
   "execution_count": 42,
   "metadata": {},
   "outputs": [
    {
     "data": {
      "text/plain": [
       "True"
      ]
     },
     "execution_count": 42,
     "metadata": {},
     "output_type": "execute_result"
    }
   ],
   "source": [
    "# Function to check if a string is a palindrome\n",
    "def palindrome(s):\n",
    "    if s == s[::-1]:\n",
    "        return True \n",
    "    else:\n",
    "        return False\n",
    "    \n",
    "palindrome(\"kiik\")\n",
    "    "
   ]
  },
  {
   "cell_type": "code",
   "execution_count": 57,
   "metadata": {},
   "outputs": [
    {
     "data": {
      "text/plain": [
       "True"
      ]
     },
     "execution_count": 57,
     "metadata": {},
     "output_type": "execute_result"
    }
   ],
   "source": [
    "# Function to check if a given year is a leap year\n",
    "def isleapyear(year):\n",
    "    if year % 400==0 or ( year%100!=0 and year%4 == 0):\n",
    "        return True\n",
    "    else:\n",
    "        return False\n",
    "    \n",
    "\n",
    "isleapyear(2024)"
   ]
  },
  {
   "cell_type": "code",
   "execution_count": 68,
   "metadata": {},
   "outputs": [
    {
     "data": {
      "text/plain": [
       "4"
      ]
     },
     "execution_count": 68,
     "metadata": {},
     "output_type": "execute_result"
    }
   ],
   "source": [
    "# Function to count the number of digits in a given number\n",
    "\n",
    "def length(n):\n",
    "    return len(str(n))\n",
    "    \n",
    "length(1234)\n"
   ]
  },
  {
   "cell_type": "code",
   "execution_count": 71,
   "metadata": {},
   "outputs": [
    {
     "data": {
      "text/plain": [
       "12345"
      ]
     },
     "execution_count": 71,
     "metadata": {},
     "output_type": "execute_result"
    }
   ],
   "source": [
    "# Function to identify the greatest of 4 numbers\n",
    "\n",
    "def greatest4(n1,n2,n3,n4):\n",
    "    if n1>n2>n3>n4:\n",
    "        return n1\n",
    "    elif n2>n3 and n2>n4:\n",
    "        return n2\n",
    "    elif n3>n4:\n",
    "        return n3\n",
    "    return n4\n",
    "\n",
    "greatest4(12,123, 1234, 12345)"
   ]
  },
  {
   "cell_type": "code",
   "execution_count": null,
   "metadata": {},
   "outputs": [],
   "source": []
  },
  {
   "cell_type": "markdown",
   "metadata": {},
   "source": [
    "### iteration\n",
    "\n",
    "* for\n",
    "* while\n",
    "\n",
    "#### For loop in python\n",
    "\n",
    "\n",
    "[101, 210]\n",
    "\n",
    "for number in range(101, 210)\n",
    "    print number\n",
    "    \n",
    "o/p :-\n",
    "\n",
    "101\n",
    "102\n",
    ".\n",
    ".\n",
    ".\n",
    "210\n",
    "\n"
   ]
  },
  {
   "cell_type": "code",
   "execution_count": 81,
   "metadata": {},
   "outputs": [
    {
     "name": "stdout",
     "output_type": "stream",
     "text": [
      "1 2 3 4 5 6 7 8 9 10 11 12 13 14 15 16 17 18 19 20 21 22 23 24 25 26 27 28 29 30 1 2 3 4 5 6 7 8 9 10 11 12 13 "
     ]
    }
   ],
   "source": [
    "# Function to print n numbers\n",
    "\n",
    "def printNNaturalNumbers(n):\n",
    "    for counter in range(1, n+1):\n",
    "        print(counter, end=\" \")\n",
    "    return\n",
    "\n",
    "printNNaturalNumbers(30)\n",
    "printNNaturalNumbers(13)"
   ]
  },
  {
   "cell_type": "code",
   "execution_count": 93,
   "metadata": {},
   "outputs": [
    {
     "name": "stdout",
     "output_type": "stream",
     "text": [
      "1 2 3 4 5 6 7 8 9 10 11 12 13 14 15 16 17 18 19 20 "
     ]
    }
   ],
   "source": [
    "# Function to print N Natural Numbers usinf a while lloop\n",
    "\n",
    "def nNaturalNumbers(n):\n",
    "    counter = 1\n",
    "    while counter <=n:\n",
    "        print(counter, end =\" \")\n",
    "        counter = counter + 1\n",
    "    return\n",
    "\n",
    "nNaturalNumbers(20)"
   ]
  },
  {
   "cell_type": "code",
   "execution_count": 87,
   "metadata": {},
   "outputs": [],
   "source": [
    "# Function to print all numbers divisible by 6 and not a factor of 100 in a given range(lb, ub) inclusive\n",
    "\n",
    "\n"
   ]
  },
  {
   "cell_type": "code",
   "execution_count": 88,
   "metadata": {},
   "outputs": [],
   "source": [
    "#function to find the average of cubes of all even numbers in a given inclusive range(lb, ub) inclusive\n",
    "\n",
    "\n"
   ]
  },
  {
   "cell_type": "code",
   "execution_count": 89,
   "metadata": {},
   "outputs": [],
   "source": [
    "#Function to generate the list of factors for a given number 12-> 1 2 3 4 6 12\n",
    "\n",
    "\n"
   ]
  },
  {
   "cell_type": "code",
   "execution_count": 106,
   "metadata": {},
   "outputs": [
    {
     "name": "stdout",
     "output_type": "stream",
     "text": [
      "1\n",
      "2\n",
      "3\n",
      "6\n",
      "9\n",
      "18\n"
     ]
    }
   ],
   "source": [
    "#Function to calculate the factorial of a given number\n",
    "\n",
    "def factor(n):\n",
    "    fact = 1\n",
    "    for i in range(2,n+1):\n",
    "        if(n%i==0):\n",
    "            print (i)\n",
    "    \n",
    "factor(18)\n"
   ]
  },
  {
   "cell_type": "code",
   "execution_count": 91,
   "metadata": {},
   "outputs": [],
   "source": [
    "#Function to check if a given number is a prime\n",
    "\n",
    "\n"
   ]
  },
  {
   "cell_type": "code",
   "execution_count": 3,
   "metadata": {},
   "outputs": [
    {
     "ename": "NameError",
     "evalue": "name 'isprime' is not defined",
     "output_type": "error",
     "traceback": [
      "\u001b[1;31m---------------------------------------------------------------------------\u001b[0m",
      "\u001b[1;31mNameError\u001b[0m                                 Traceback (most recent call last)",
      "\u001b[1;32m<ipython-input-3-e1b7da53f652>\u001b[0m in \u001b[0;36m<module>\u001b[1;34m\u001b[0m\n\u001b[0;32m     13\u001b[0m     \u001b[1;32mreturn\u001b[0m \u001b[0msum\u001b[0m\u001b[1;33m/\u001b[0m\u001b[0mn\u001b[0m\u001b[1;33m\u001b[0m\u001b[1;33m\u001b[0m\u001b[0m\n\u001b[0;32m     14\u001b[0m \u001b[1;33m\u001b[0m\u001b[0m\n\u001b[1;32m---> 15\u001b[1;33m \u001b[0mavgNprime\u001b[0m\u001b[1;33m(\u001b[0m\u001b[1;36m10\u001b[0m\u001b[1;33m)\u001b[0m\u001b[1;33m\u001b[0m\u001b[1;33m\u001b[0m\u001b[0m\n\u001b[0m\u001b[0;32m     16\u001b[0m \u001b[1;33m\u001b[0m\u001b[0m\n\u001b[0;32m     17\u001b[0m \u001b[1;33m\u001b[0m\u001b[0m\n",
      "\u001b[1;32m<ipython-input-3-e1b7da53f652>\u001b[0m in \u001b[0;36mavgNprime\u001b[1;34m(n)\u001b[0m\n\u001b[0;32m      6\u001b[0m     \u001b[0mseqcount\u001b[0m \u001b[1;33m=\u001b[0m \u001b[1;36m2\u001b[0m\u001b[1;33m\u001b[0m\u001b[1;33m\u001b[0m\u001b[0m\n\u001b[0;32m      7\u001b[0m     \u001b[1;32mwhile\u001b[0m\u001b[1;33m(\u001b[0m\u001b[0mprimecount\u001b[0m \u001b[1;33m<\u001b[0m \u001b[0mn\u001b[0m\u001b[1;33m)\u001b[0m\u001b[1;33m:\u001b[0m\u001b[1;33m\u001b[0m\u001b[1;33m\u001b[0m\u001b[0m\n\u001b[1;32m----> 8\u001b[1;33m         \u001b[1;32mif\u001b[0m \u001b[0misprime\u001b[0m\u001b[1;33m(\u001b[0m\u001b[0mseqcount\u001b[0m\u001b[1;33m)\u001b[0m\u001b[1;33m:\u001b[0m\u001b[1;33m\u001b[0m\u001b[1;33m\u001b[0m\u001b[0m\n\u001b[0m\u001b[0;32m      9\u001b[0m             \u001b[0mprimecount\u001b[0m \u001b[1;33m+=\u001b[0m \u001b[1;36m1\u001b[0m\u001b[1;33m\u001b[0m\u001b[1;33m\u001b[0m\u001b[0m\n\u001b[0;32m     10\u001b[0m             \u001b[1;31m#print(seqcount)\u001b[0m\u001b[1;33m\u001b[0m\u001b[1;33m\u001b[0m\u001b[1;33m\u001b[0m\u001b[0m\n",
      "\u001b[1;31mNameError\u001b[0m: name 'isprime' is not defined"
     ]
    }
   ],
   "source": [
    "# Function to calculate the average first N prime numbers\n",
    "\n",
    "def avgNprime(n):\n",
    "    primecount = 0\n",
    "    sum = 0\n",
    "    seqcount = 2\n",
    "    while(primecount < n):\n",
    "        if isprime(seqcount):\n",
    "            primecount += 1\n",
    "            #print(seqcount)\n",
    "            sum += (seqcount)\n",
    "        seqcount += 1\n",
    "    return sum/n\n",
    "\n",
    "avgNprime(10)\n",
    "        \n",
    "        "
   ]
  },
  {
   "cell_type": "code",
   "execution_count": 99,
   "metadata": {},
   "outputs": [],
   "source": [
    "# Function to generate all perfect numbers in a given range\n",
    "\n",
    "\n"
   ]
  },
  {
   "cell_type": "code",
   "execution_count": 7,
   "metadata": {},
   "outputs": [
    {
     "name": "stdout",
     "output_type": "stream",
     "text": [
      "500 504 508 512 516 520 524 "
     ]
    }
   ],
   "source": [
    "# Function to print the alternative values in a range in the same line\n",
    "# [500, 550] -> 500 502 504 .....550\n",
    "# (500, 550) -> 501 503 505 .....549\n",
    "# range(500, 550) -> 501 502 503.....549 \n",
    "# ALL set based functions in python have start value inclusive and end value exclusive\n",
    "\n",
    "def alternatevalues(start, end):\n",
    "    for value in range(start, end+1, 4):\n",
    "        print(value, end=\" \")\n",
    "    return\n",
    "\n",
    "alternatevalues(500, 525)\n",
    "\n",
    "\n",
    "\n",
    "\n"
   ]
  },
  {
   "cell_type": "code",
   "execution_count": 11,
   "metadata": {},
   "outputs": [
    {
     "name": "stdout",
     "output_type": "stream",
     "text": [
      "525 523 521 519 517 515 513 511 509 507 505 503 501 "
     ]
    }
   ],
   "source": [
    "# Function to print reverse of given range in the same line\n",
    "\n",
    "def alternatevalues(start, end):\n",
    "    for value in range(end, start-1,-2):\n",
    "        print(value, end=\" \")\n",
    "    return\n",
    "\n",
    "alternatevalues(500, 525)"
   ]
  },
  {
   "cell_type": "code",
   "execution_count": 20,
   "metadata": {},
   "outputs": [
    {
     "name": "stdout",
     "output_type": "stream",
     "text": [
      "99 97 95 93 91 89 87 85 83 81 79 77 75 73 71 69 67 65 63 61 59 57 55 53 51 49 47 45 43 41 39 37 35 33 31 29 27 25 23 21 19 17 15 13 11 "
     ]
    }
   ],
   "source": [
    "# Function to print the odd numbers in reverse order in a range\n",
    "\n",
    "def oddnum(start, end):\n",
    "    for n in range(end, start-1,-1):\n",
    "           if n % 2 !=0:\n",
    "                print(n,end=\" \")\n",
    "    return\n",
    "\n",
    "oddnum(10,100)"
   ]
  },
  {
   "cell_type": "code",
   "execution_count": 23,
   "metadata": {},
   "outputs": [
    {
     "data": {
      "text/plain": [
       "15150"
      ]
     },
     "execution_count": 23,
     "metadata": {},
     "output_type": "execute_result"
    }
   ],
   "source": [
    "# Functon to calculate the sum of numbers in a range\n",
    "\n",
    "def sumRange(start, end):\n",
    "    sum = 0\n",
    "    for i in range(start, end+1):\n",
    "        sum = sum +i\n",
    "    return sum\n",
    "\n",
    "sumRange(100,200)\n"
   ]
  },
  {
   "cell_type": "code",
   "execution_count": 27,
   "metadata": {},
   "outputs": [
    {
     "data": {
      "text/plain": [
       "13.0"
      ]
     },
     "execution_count": 27,
     "metadata": {},
     "output_type": "execute_result"
    }
   ],
   "source": [
    "# Function to calculate the average of a given range\n",
    "# (1, 5) -> 3\n",
    "\n",
    "def avgNumber(start, end):\n",
    "    sum=0\n",
    "    count=0\n",
    "    avg=0\n",
    "    for i in range(start,end+1):\n",
    "        sum=sum+i\n",
    "        count=count+1\n",
    "        avg=sum/count\n",
    "    return avg\n",
    "avgNumber(1, 25)"
   ]
  },
  {
   "cell_type": "code",
   "execution_count": 34,
   "metadata": {},
   "outputs": [
    {
     "name": "stdout",
     "output_type": "stream",
     "text": [
      "2004 2008 2012 2016 2020 "
     ]
    }
   ],
   "source": [
    "# Function to generate the leap year in a given time period 2000 - 2020 -> 2004 2008 2012 2016 2020\n",
    "\n",
    "# isLeapyear(year)\n",
    "\n",
    "#generateLeapyear(startyear, endYear)\n",
    "\n",
    "def generateLeapyear(startyear, endyear):\n",
    "    for i in range(startyear, endyear+1):\n",
    "        if (i%4==0 or i%400==0) and i%100!=0:\n",
    "            print(i, end=\" \")\n",
    "    return\n",
    "\n",
    "generateLeapyear(2000, 2020)\n"
   ]
  },
  {
   "cell_type": "code",
   "execution_count": 36,
   "metadata": {},
   "outputs": [
    {
     "name": "stdout",
     "output_type": "stream",
     "text": [
      "2000 2004 2008 2012 2016 2020 "
     ]
    }
   ],
   "source": [
    "\n",
    "\n",
    "def isLeapyear(year):\n",
    "    if year % 400 == 0 or (year % 100!=0 and year % 4==0):\n",
    "        return True\n",
    "    return False\n",
    "\n",
    "def generateLeapyear(startyear, endyear):\n",
    "    for year in range(startyear, endyear+1):\n",
    "        if isLeapyear(year):\n",
    "            print(year, end=\" \")\n",
    "    return\n",
    "\n",
    "generateLeapyear(2000, 2020)\n",
    "      \n",
    "        \n",
    "        "
   ]
  },
  {
   "cell_type": "code",
   "execution_count": 43,
   "metadata": {},
   "outputs": [
    {
     "data": {
      "text/plain": [
       "7671"
      ]
     },
     "execution_count": 43,
     "metadata": {},
     "output_type": "execute_result"
    }
   ],
   "source": [
    "# Calculate number of days in a given time period using logic\n",
    "# For every year given time period, if the year is not a leap year -> add 365 to sum. if Leap year add 366\n",
    "\n",
    "def noofDays(start, end):\n",
    "    sum=0\n",
    "    nonsum=0\n",
    "    for year in range(start, end+1):\n",
    "        if isLeapyear(year):\n",
    "            sum=sum+366\n",
    "        else:\n",
    "            nonsum=nonsum+365\n",
    "    return sum+nonsum\n",
    "\n",
    "noofDays(2000,2020)\n",
    "        \n"
   ]
  },
  {
   "cell_type": "code",
   "execution_count": 45,
   "metadata": {},
   "outputs": [],
   "source": [
    "# Function to calculatenumber of hours for a given time period\n",
    "# (11, 1975, 3, 1999)\n",
    "  \n",
    "   \n",
    " \n",
    "     "
   ]
  },
  {
   "cell_type": "code",
   "execution_count": null,
   "metadata": {},
   "outputs": [],
   "source": []
  }
 ],
 "metadata": {
  "kernelspec": {
   "display_name": "Python 3",
   "language": "python",
   "name": "python3"
  },
  "language_info": {
   "codemirror_mode": {
    "name": "ipython",
    "version": 3
   },
   "file_extension": ".py",
   "mimetype": "text/x-python",
   "name": "python",
   "nbconvert_exporter": "python",
   "pygments_lexer": "ipython3",
   "version": "3.7.3"
  }
 },
 "nbformat": 4,
 "nbformat_minor": 2
}
