{
 "cells": [
  {
   "cell_type": "markdown",
   "metadata": {},
   "source": [
    "### problem  : Duration\n",
    "\n",
    "**Input**: start time, end time(HH:MM)\n",
    "HH"
   ]
  },
  {
   "cell_type": "code",
   "execution_count": null,
   "metadata": {},
   "outputs": [],
   "source": [
    "\n",
    "\n",
    "def minuteDifference(s):\n",
    "    s = s.split()\n",
    "    sh = int(s[0])\n",
    "    sm = int(s[1])\n",
    "    eh = int(s[2])\n",
    "    em = int(s[3])\n",
    "    startminutes = (sh * 60) + sm\n",
    "    endminutes = (eh * 60) + em\n",
    "    return endminutes - startminutes\n",
    "\n",
    "def outputtimeFormat(minutes):\n",
    "    # Convert minutes to HH MM\n",
    "    hh = minutes // 60\n",
    "    mm = minutes % 60\n",
    "    print(hh, mm)\n",
    "    return\n",
    "    \n",
    "    \n",
    "    \n",
    "    "
   ]
  },
  {
   "cell_type": "code",
   "execution_count": null,
   "metadata": {},
   "outputs": [],
   "source": []
  },
  {
   "cell_type": "code",
   "execution_count": null,
   "metadata": {},
   "outputs": [],
   "source": [
    "# Function to define a number which is eual to sum of factors\n",
    "\n",
    "def sumFactors(t,n):\n",
    "    for t in range(1,t+1):\n",
    "        sum = 0\n",
    "        n = int(input())\n",
    "        for i in range (1,n):\n",
    "            if n%i==0:\n",
    "                sum=sum+i\n",
    "        if sum == n:\n",
    "            print(\"Yes\")\n",
    "        else:\n",
    "            print(\"No\")\n",
    "            \n",
    "            \n",
    "            t=int(input())\n",
    "            sumofFactors(t,n)"
   ]
  },
  {
   "cell_type": "code",
   "execution_count": null,
   "metadata": {},
   "outputs": [],
   "source": [
    "# Function to efine number of alphabets and number of digits\n",
    "\n",
    "def alphanumbers(s):\n",
    "    l=len(s)\n",
    "    alpha=0\n",
    "    number=0\n",
    "    spc1=0\n",
    "    print(1)\n",
    "    for i in range(0,1):\n",
    "        if s[i].isalpha():\n",
    "            alpha=alpha+1\n",
    "            elif s[i].isdigit():\n",
    "                number=number+1\n",
    "            else:\n",
    "                spc1=spcl+1\n",
    "                \n",
    "    print(alpha)\n",
    "    print(number)\n",
    "    print(spcl)\n",
    "    \n",
    "s=input()\n",
    "alphanumber(s)"
   ]
  },
  {
   "cell_type": "code",
   "execution_count": null,
   "metadata": {},
   "outputs": [],
   "source": []
  },
  {
   "cell_type": "code",
   "execution_count": null,
   "metadata": {},
   "outputs": [],
   "source": []
  },
  {
   "cell_type": "code",
   "execution_count": null,
   "metadata": {},
   "outputs": [],
   "source": []
  },
  {
   "cell_type": "code",
   "execution_count": null,
   "metadata": {},
   "outputs": [],
   "source": []
  },
  {
   "cell_type": "code",
   "execution_count": null,
   "metadata": {},
   "outputs": [],
   "source": []
  }
 ],
 "metadata": {
  "kernelspec": {
   "display_name": "Python 3",
   "language": "python",
   "name": "python3"
  },
  "language_info": {
   "codemirror_mode": {
    "name": "ipython",
    "version": 3
   },
   "file_extension": ".py",
   "mimetype": "text/x-python",
   "name": "python",
   "nbconvert_exporter": "python",
   "pygments_lexer": "ipython3",
   "version": "3.7.3"
  }
 },
 "nbformat": 4,
 "nbformat_minor": 2
}
