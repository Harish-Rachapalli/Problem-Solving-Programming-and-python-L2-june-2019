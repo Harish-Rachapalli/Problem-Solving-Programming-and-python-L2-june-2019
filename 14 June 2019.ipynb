{
 "cells": [
  {
   "cell_type": "code",
   "execution_count": null,
   "metadata": {},
   "outputs": [],
   "source": []
  },
  {
   "cell_type": "code",
   "execution_count": null,
   "metadata": {},
   "outputs": [],
   "source": []
  },
  {
   "cell_type": "code",
   "execution_count": null,
   "metadata": {},
   "outputs": [],
   "source": []
  },
  {
   "cell_type": "markdown",
   "metadata": {},
   "source": [
    "### Python Data Structure\n",
    "\n",
    "### Lists"
   ]
  },
  {
   "cell_type": "code",
   "execution_count": 31,
   "metadata": {},
   "outputs": [
    {
     "data": {
      "text/plain": [
       "419.0"
      ]
     },
     "execution_count": 31,
     "metadata": {},
     "output_type": "execute_result"
    }
   ],
   "source": [
    "li = [123, 978, 654]\n",
    "\n",
    "li # This is to access the entire list\n",
    "\n",
    "li[1] # Access an element with index in a list\n",
    "\n",
    "li[1:] # Access All elements from second element to last element\n",
    "\n",
    "li[::-1] # Access the elements in reverse order\n",
    "\n",
    "li = li[::-1] # Reversing list elements and reassining list elements\n",
    "\n",
    "li\n",
    "\n",
    "li = li[::-1]\n",
    "\n",
    "li\n",
    "\n",
    "li[::2] # Accessing even index elements\n",
    "\n",
    "li[1::2] \n",
    "\n",
    "# Lists can be accessed, manipulated in two different ways\n",
    "    # Direct Referencing - [index]\n",
    "    # indirect referencing- through functions\n",
    "    \n",
    "li.append(345) # Adding an element to the end of the list\n",
    "\n",
    "li.insert(1, 234) # Adding an element at a particular index\n",
    "\n",
    "li.sort() # sort elements in ascending order\n",
    "\n",
    "li.pop() # Remove the last element in a list\n",
    "li\n",
    "li.pop(1) # Remove an element at a particular index\n",
    "\n",
    "li2 = [234,456,678]\n",
    "\n",
    "li.extend(li2) # Merge list 2 into list 1\n",
    "\n",
    "sum(li) # sum of all elements in a list\n",
    "max(li) # Maximum element in a list\n",
    "len(li) # Number of elements in alist\n",
    "\n",
    "sum(li)/len(li) # Aaverage of list elements \n",
    "\n",
    "sum(li[1::2])/len(li[::2]) # Average of all alternate elements\n"
   ]
  },
  {
   "cell_type": "code",
   "execution_count": null,
   "metadata": {},
   "outputs": [],
   "source": []
  },
  {
   "cell_type": "code",
   "execution_count": 33,
   "metadata": {},
   "outputs": [
    {
     "name": "stdout",
     "output_type": "stream",
     "text": [
      "654\n"
     ]
    }
   ],
   "source": [
    "# Function to identify the second largest element in a list\n",
    "\n",
    "def secondlargest(li):\n",
    "    li.sort()\n",
    "    print(li[-2])\n",
    "secondlargest(li)"
   ]
  },
  {
   "cell_type": "code",
   "execution_count": 37,
   "metadata": {},
   "outputs": [
    {
     "name": "stdout",
     "output_type": "stream",
     "text": [
      "None\n",
      "345\n"
     ]
    }
   ],
   "source": [
    "# function to identify the second largest element \n",
    "        # sort thr data and select the second last element\n",
    "        # sort the data in reverse order, and select the second largest\n",
    "        # Remove the max element and then get the\n",
    "\n",
    "\n",
    "\n",
    "\n",
    "\n",
    "\n",
    "\n",
    "# Function that returns the nth largest\n",
    "\n",
    "def genericlargest(li, n):\n",
    "    # num=int(input(\"Enter the number\"))\n",
    "    print(li.sort())\n",
    "    print(li[n])\n",
    "    \n",
    "genericlargest(li,2)\n",
    "    "
   ]
  },
  {
   "cell_type": "code",
   "execution_count": 48,
   "metadata": {},
   "outputs": [
    {
     "data": {
      "text/plain": [
       "-1"
      ]
     },
     "execution_count": 48,
     "metadata": {},
     "output_type": "execute_result"
    }
   ],
   "source": [
    "# Function to search for data in a list\n",
    "# search for the key in the list and return the index of the key. Return -1 if key is not found\n",
    "\n",
    "def linearsearch(li, key):\n",
    "    for index in range(0, len(li)):\n",
    "        if li[index] == key:\n",
    "            return index\n",
    "    return -1\n",
    "\n",
    "\n",
    "def linearsearch2(li, key):\n",
    "    for element in li:\n",
    "        if element == key:\n",
    "            return li.index(element)\n",
    "    return -1\n",
    "\n",
    "\n",
    "def linearsearch3(li, key):\n",
    "    if key in li:\n",
    "        return li.index(key) \n",
    "    return -1\n",
    "\n",
    "linearsearch3(li, 789)"
   ]
  },
  {
   "cell_type": "code",
   "execution_count": 54,
   "metadata": {},
   "outputs": [
    {
     "data": {
      "text/plain": [
       "1"
      ]
     },
     "execution_count": 54,
     "metadata": {},
     "output_type": "execute_result"
    }
   ],
   "source": [
    "# Function to count the occurances of a character in a given string\n",
    "\n",
    "# \"python programming\", m -> 2\n",
    "\n",
    "def countcharOccurances(s, c):\n",
    "    count = 0 \n",
    "    for ch in s:\n",
    "        if ch == c:\n",
    "            count += 1\n",
    "    return count\n",
    "\n",
    "def countcharOccurances2(s, c):\n",
    "    return s.count(c)\n",
    "\n",
    "countcharOccurances2(\"python programming\", 'gra')\n",
    "\n",
    "# Function to find the number of occurances of a substring\n",
    "# \"abcabcddcba\", \"ab\" -> 2\n",
    "\n",
    "\n"
   ]
  },
  {
   "cell_type": "code",
   "execution_count": 60,
   "metadata": {},
   "outputs": [
    {
     "name": "stdout",
     "output_type": "stream",
     "text": [
      "3\n"
     ]
    },
    {
     "data": {
      "text/plain": [
       "14"
      ]
     },
     "execution_count": 60,
     "metadata": {},
     "output_type": "execute_result"
    }
   ],
   "source": [
    "n = int(input())\n",
    "\n",
    "def sumsquaresNaturalnumbers(n):\n",
    "    sum = 0\n",
    "    for i in range(1, n+1):\n",
    "        sum = sum + i**2\n",
    "    return sum\n",
    "\n",
    "sumsquaresNaturalnumbers(n)"
   ]
  },
  {
   "cell_type": "code",
   "execution_count": null,
   "metadata": {},
   "outputs": [],
   "source": [
    "\n",
    "\n",
    "n = int(input())\n",
    "s = input()\n",
    "s = s.split()\n",
    "# \"1 2 3 4 5\"\n",
    "\n",
    "li = []\n",
    "\n",
    "for i in s:\n",
    "    li.append(abs(int(i)))\n",
    "    \n",
    "    # -1000 -100 1 2 3 4 0\n",
    "    \n",
    "min(li) \n",
    "    "
   ]
  },
  {
   "cell_type": "code",
   "execution_count": null,
   "metadata": {},
   "outputs": [],
   "source": []
  },
  {
   "cell_type": "code",
   "execution_count": null,
   "metadata": {},
   "outputs": [],
   "source": []
  }
 ],
 "metadata": {
  "kernelspec": {
   "display_name": "Python 3",
   "language": "python",
   "name": "python3"
  },
  "language_info": {
   "codemirror_mode": {
    "name": "ipython",
    "version": 3
   },
   "file_extension": ".py",
   "mimetype": "text/x-python",
   "name": "python",
   "nbconvert_exporter": "python",
   "pygments_lexer": "ipython3",
   "version": "3.7.3"
  }
 },
 "nbformat": 4,
 "nbformat_minor": 2
}
